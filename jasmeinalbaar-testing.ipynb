{
 "cells": [
  {
   "cell_type": "markdown",
   "id": "c7e837c5",
   "metadata": {},
   "source": [
    "## TensorFlow Serving Deployment Test\n",
    "Notebook ini digunakan untuk menguji apakah model TensorFlow Serving \n",
    "\n",
    "yang sudah dideploy di Railway bisa menerima request dan mengembalikan hasil prediksi."
   ]
  },
  {
   "cell_type": "code",
   "execution_count": null,
   "id": "949b7288",
   "metadata": {},
   "outputs": [],
   "source": [
    "# Import library\n",
    "import pandas as pd\n",
    "import tensorflow as tf\n",
    "import base64\n",
    "import json\n",
    "import requests"
   ]
  },
  {
   "cell_type": "code",
   "execution_count": null,
   "id": "782983c1",
   "metadata": {},
   "outputs": [],
   "source": [
    "# Load dataset Adult Income\n",
    "data = pd.read_csv(\"data/adult.csv\")\n",
    "data.head()"
   ]
  },
  {
   "cell_type": "code",
   "execution_count": null,
   "id": "d4a51bfd",
   "metadata": {},
   "outputs": [],
   "source": [
    "# Ambil input (tanpa kolom target 'income')\n",
    "inputs = data.drop(columns=[\"income\"]).iloc[0].to_dict()\n",
    "inputs"
   ]
  },
  {
   "cell_type": "code",
   "execution_count": null,
   "id": "d3654419",
   "metadata": {},
   "outputs": [],
   "source": [
    "def prepare_json(inputs: dict):\n",
    "    \"\"\"\n",
    "    Convert dictionary input menjadi format TensorFlow Serving JSON\n",
    "    \"\"\"\n",
    "    feature_mapping = {}\n",
    "\n",
    "    for key, value in inputs.items():\n",
    "        if isinstance(value, str):\n",
    "            # string → bytes list\n",
    "            feature_mapping[key] = tf.train.Feature(\n",
    "                bytes_list=tf.train.BytesList(value=[value.encode()])\n",
    "            )\n",
    "        else:\n",
    "            # numeric → float (lebih aman karena mix int/float)\n",
    "            feature_mapping[key] = tf.train.Feature(\n",
    "                float_list=tf.train.FloatList(value=[float(value)])\n",
    "            )\n",
    "\n",
    "    # Buat TF Example\n",
    "    example = tf.train.Example(\n",
    "        features=tf.train.Features(feature=feature_mapping)\n",
    "    ).SerializeToString()\n",
    "\n",
    "    # Encode ke base64\n",
    "    result = {\n",
    "        \"examples\": {\n",
    "            \"b64\": base64.b64encode(example).decode()\n",
    "        }\n",
    "    }\n",
    "\n",
    "    return json.dumps({\n",
    "        \"signature_name\": \"serving_default\",\n",
    "        \"instances\": [result],\n",
    "    })"
   ]
  },
  {
   "cell_type": "code",
   "execution_count": null,
   "id": "dae6f927",
   "metadata": {},
   "outputs": [],
   "source": [
    "def predict(inputs):\n",
    "    json_data = prepare_json(inputs)\n",
    "\n",
    "    # Ganti sesuai endpoint Railway kamu\n",
    "    endpoint = \"https://<app-name>.up.railway.app/v1/models/income-prediction-model:predict\"\n",
    "\n",
    "    response = requests.post(endpoint, data=json_data)\n",
    "    result = response.json()\n",
    "\n",
    "    try:\n",
    "        prediction = result[\"predictions\"][0][0]\n",
    "        if prediction > 0.5:\n",
    "            return \">50K\"\n",
    "        else:\n",
    "            return \"<=50K\"\n",
    "    except:\n",
    "        return f\"Error: {result}\""
   ]
  },
  {
   "cell_type": "code",
   "execution_count": null,
   "id": "a35c9251",
   "metadata": {},
   "outputs": [],
   "source": [
    "# Row pertama\n",
    "inputs = data.drop(columns=[\"income\"]).iloc[0].to_dict()\n",
    "print(\"Prediksi row 0:\", predict(inputs))\n",
    "\n",
    "# Row ke-10\n",
    "inputs = data.drop(columns=[\"income\"]).iloc[10].to_dict()\n",
    "print(\"Prediksi row 10:\", predict(inputs))"
   ]
  }
 ],
 "metadata": {
  "language_info": {
   "name": "python"
  }
 },
 "nbformat": 4,
 "nbformat_minor": 5
}
