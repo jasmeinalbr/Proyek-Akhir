{
 "cells": [
  {
   "cell_type": "markdown",
   "id": "c7e837c5",
   "metadata": {},
   "source": [
    "## TensorFlow Serving Deployment Test\n",
    "Notebook ini digunakan untuk menguji apakah model TensorFlow Serving \n",
    "\n",
    "yang sudah dideploy di Railway bisa menerima request dan mengembalikan hasil prediksi."
   ]
  },
  {
   "cell_type": "code",
   "execution_count": 40,
   "id": "ea5ca15c",
   "metadata": {},
   "outputs": [],
   "source": [
    "# Import library\n",
    "import tensorflow as tf\n",
    "import tensorflow_transform as tft\n",
    "import pandas as pd\n",
    "import numpy as np\n",
    "import requests\n",
    "import base64"
   ]
  },
  {
   "cell_type": "code",
   "execution_count": 41,
   "id": "63cc2602",
   "metadata": {},
   "outputs": [],
   "source": [
    "# Endpoint TF Serving\n",
    "TF_SERVING_URL = \"https://income-prediction-model-production-3bbd.up.railway.app/v1/models/income-prediction-model:predict\"\n",
    "\n",
    "# Path transform graph hasil pipeline\n",
    "TRANSFORM_GRAPH_DIR = \"output/jasmeinalbaar-pipeline/Transform/transform_graph/5\"\n",
    "\n",
    "# Load transform output\n",
    "tf_transform_output = tft.TFTransformOutput(TRANSFORM_GRAPH_DIR)\n",
    "\n",
    "# Contoh raw data\n",
    "raw_data = pd.DataFrame([\n",
    "    [90, \"?\", 77053, \"HS-grad\", 9, \"Widowed\", \"?\", \"Not-in-family\", \"White\", \"Female\", 0, 4356, 40, \"United-States\"],\n",
    "    [82, \"Private\", 132870, \"HS-grad\", 9, \"Widowed\", \"Exec-managerial\", \"Not-in-family\", \"White\", \"Female\", 0, 4356, 18, \"United-States\"]\n",
    "], columns=[\n",
    "    \"age\",\"workclass\",\"fnlwgt\",\"education\",\"education.num\",\"marital.status\",\"occupation\",\"relationship\",\n",
    "    \"race\",\"sex\",\"capital.gain\",\"capital.loss\",\"hours.per.week\",\"native.country\"\n",
    "])"
   ]
  },
  {
   "cell_type": "code",
   "execution_count": 42,
   "id": "a94c4999",
   "metadata": {},
   "outputs": [],
   "source": [
    "# Transform raw data menjadi tf.Example menggunakan transform graph\n",
    "def transform_to_example(tf_transform_output, df):\n",
    "    transformed_examples = []\n",
    "\n",
    "    int_features = [\"age\",\"fnlwgt\",\"education.num\",\"capital.gain\",\"capital.loss\",\"hours.per.week\"]\n",
    "    cat_features = [c for c in df.columns if c not in int_features]\n",
    "\n",
    "    input_dict = {}\n",
    "    for col in df.columns:\n",
    "        if col in int_features:\n",
    "            input_dict[col] = df[col].astype(np.int64).values.reshape(-1,1)\n",
    "        else:\n",
    "            input_dict[col] = df[col].astype(str).values.reshape(-1,1)\n",
    "\n",
    "    # Transform\n",
    "    transformed_features = tf_transform_output.transform_raw_features(input_dict)\n",
    "\n",
    "    # Convert ke numpy\n",
    "    transformed_features_np = {k: v.numpy() if isinstance(v, tf.Tensor) else np.array(v)\n",
    "                               for k, v in transformed_features.items()}\n",
    "\n",
    "    # Loop per baris\n",
    "    for i in range(len(df)):\n",
    "        features_proto = {}\n",
    "        for key, value in transformed_features_np.items():\n",
    "            # scalar\n",
    "            if value.ndim == 1 or value.shape[1] == 1:\n",
    "                features_proto[key] = tf.train.Feature(float_list=tf.train.FloatList(value=[float(value[i])]))\n",
    "            else:\n",
    "                features_proto[key] = tf.train.Feature(float_list=tf.train.FloatList(value=value[i].tolist()))\n",
    "        example = tf.train.Example(features=tf.train.Features(feature=features_proto))\n",
    "        transformed_examples.append(base64.b64encode(example.SerializeToString()).decode(\"utf-8\"))\n",
    "\n",
    "    return transformed_examples"
   ]
  },
  {
   "cell_type": "code",
   "execution_count": 43,
   "id": "deab5d73",
   "metadata": {},
   "outputs": [
    {
     "name": "stdout",
     "output_type": "stream",
     "text": [
      "INFO:tensorflow:struct2tensor is not available.\n",
      "INFO:tensorflow:tensorflow_decision_forests is not available.\n",
      "INFO:tensorflow:tensorflow_text is not available.\n",
      "{'predictions': [[0.14693509], [0.209623426]]}\n"
     ]
    }
   ],
   "source": [
    "# Transform dan serialisasi ke base64\n",
    "serialized_base64_examples = transform_to_example(tf_transform_output, raw_data)\n",
    "\n",
    "# Prepare payload untuk TF Serving\n",
    "payload = {\n",
    "    \"instances\": [{\"b64\": s} for s in serialized_base64_examples]\n",
    "}\n",
    "\n",
    "# Kirim request ke TF Serving\n",
    "response = requests.post(TF_SERVING_URL, json=payload)\n",
    "result = response.json()\n",
    "\n",
    "# Cek hasil\n",
    "print(result)"
   ]
  },
  {
   "cell_type": "code",
   "execution_count": 44,
   "id": "f9e5061d",
   "metadata": {},
   "outputs": [
    {
     "name": "stdout",
     "output_type": "stream",
     "text": [
      "Data ke-1:\n",
      "  Probabilitas <=50K: 0.853 ✅\n",
      "  Probabilitas >50K : 0.147 \n",
      "  Prediksi final      : <=50K 👈\n",
      "\n",
      "Data ke-2:\n",
      "  Probabilitas <=50K: 0.790 ✅\n",
      "  Probabilitas >50K : 0.210 \n",
      "  Prediksi final      : <=50K 👈\n",
      "\n"
     ]
    }
   ],
   "source": [
    "# Ambil probabilitas kelas >50K\n",
    "pred_probs = np.array([item[0] for item in result[\"predictions\"]])\n",
    "\n",
    "# Hitung probabilitas kelas <=50K\n",
    "pred_probs_le50 = 1 - pred_probs\n",
    "\n",
    "# Tentukan label prediksi\n",
    "pred_labels = np.where(pred_probs > 0.5, \">50K\", \"<=50K\")\n",
    "\n",
    "# Tampilkan hasil\n",
    "for i, (p_le50, p_gt50, label) in enumerate(zip(pred_probs_le50, pred_probs, pred_labels), 1):\n",
    "    # Tentukan simbol untuk probabilitas lebih tinggi\n",
    "    sym_le50 = \"✅\" if p_le50 > p_gt50 else \"\"\n",
    "    sym_gt50 = \"✅\" if p_gt50 > p_le50 else \"\"\n",
    "\n",
    "    # Simbol untuk prediksi final\n",
    "    sym_label = \"👈\"\n",
    "\n",
    "    print(f\"Data ke-{i}:\")\n",
    "    print(f\"  Probabilitas <=50K: {p_le50:.3f} {sym_le50}\")\n",
    "    print(f\"  Probabilitas >50K : {p_gt50:.3f} {sym_gt50}\")\n",
    "    print(f\"  Prediksi final      : {label} {sym_label}\\n\")"
   ]
  }
 ],
 "metadata": {
  "kernelspec": {
   "display_name": "tfx-env",
   "language": "python",
   "name": "python3"
  },
  "language_info": {
   "codemirror_mode": {
    "name": "ipython",
    "version": 3
   },
   "file_extension": ".py",
   "mimetype": "text/x-python",
   "name": "python",
   "nbconvert_exporter": "python",
   "pygments_lexer": "ipython3",
   "version": "3.9.23"
  }
 },
 "nbformat": 4,
 "nbformat_minor": 5
}
